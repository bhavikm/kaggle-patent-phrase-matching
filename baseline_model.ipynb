{
 "cells": [
  {
   "cell_type": "code",
   "execution_count": null,
   "id": "dc746c28",
   "metadata": {},
   "outputs": [],
   "source": [
    "iskaggle = os.environ.get('KAGGLE_KERNEL_RUN_TYPE', '')"
   ]
  },
  {
   "cell_type": "code",
   "execution_count": null,
   "id": "edac5cba",
   "metadata": {},
   "outputs": [],
   "source": [
    "if iskaggle:\n",
    "    !pip install -q datasets"
   ]
  },
  {
   "cell_type": "code",
   "execution_count": null,
   "id": "bf9f3971-c07d-40b2-802b-e498e179fbf3",
   "metadata": {},
   "outputs": [],
   "source": [
    "import numpy as np \n",
    "import pandas as pd \n",
    "from sklearn.model_selection import train_test_split\n",
    "import random\n",
    "import os\n",
    "import torch\n",
    "from sklearn.model_selection import KFold, StratifiedKFold\n",
    "import shutil\n",
    "from torch.utils.data import Dataset, DataLoader\n",
    "from transformers import AutoModel, AutoConfig, AutoTokenizer, get_linear_schedule_with_warmup, TrainingArguments, Trainer, AutoModelForSequenceClassification\n",
    "from datasets import load_metric\n",
    "import datasets\n",
    "from transformers import BertModel\n",
    "import torch.nn as nn\n",
    "from torch.optim import Adam\n",
    "from tqdm import tqdm\n",
    "import warnings, transformers, logging, torch"
   ]
  },
  {
   "cell_type": "code",
   "execution_count": null,
   "id": "17e6df4e-3020-4aee-9cd7-ebf07714f951",
   "metadata": {},
   "outputs": [],
   "source": [
    "os.environ[\"WANDB_DISABLED\"] = \"true\""
   ]
  },
  {
   "cell_type": "code",
   "execution_count": null,
   "id": "eb0bfe61",
   "metadata": {},
   "outputs": [],
   "source": [
    "warnings.simplefilter('ignore')\n",
    "logging.disable(logging.WARNING)"
   ]
  },
  {
   "cell_type": "code",
   "execution_count": null,
   "id": "e54b796d",
   "metadata": {},
   "outputs": [],
   "source": [
    "class CFG:\n",
    "    if iskaggle:\n",
    "        input_path = '../input/us-patent-phrase-to-phrase-matching'\n",
    "    else:\n",
    "        input_path = '/home/bhavik/projects/kaggle-patent-phrase-matching/data'\n",
    "    model_path = 'anferico/bert-for-patents'\n",
    "    \n",
    "    learning_rate = 2e-5\n",
    "    weight_decay = 0.01\n",
    "    num_fold = 5\n",
    "    epochs = 5\n",
    "    batch_size = 16"
   ]
  },
  {
   "cell_type": "code",
   "execution_count": null,
   "id": "0d30ecef",
   "metadata": {},
   "outputs": [],
   "source": [
    "train_df = pd.read_csv(f\"{CFG.input_path}/train.csv\")\n",
    "if iskaggle:\n",
    "    titles = pd.read_csv(f\"../input/us-patents-category-titles/titles.csv\")\n",
    "else:\n",
    "    titles = pd.read_csv(f\"{CFG.input_path}/titles.csv\")\n",
    "train_df = train_df.merge(titles, left_on='context', right_on='code')\n",
    "\n",
    "# https://www.kaggle.com/code/abhishek/phrase-matching-folds\n",
    "def create_folds(data, num_splits):\n",
    "    # we create a new column called kfold and fill it with -1\n",
    "    data[\"fold\"] = -1\n",
    "    \n",
    "    # the next step is to randomize the rows of the data\n",
    "    # data = data.sample(frac=1).reset_index(drop=True)\n",
    "\n",
    "    # calculate number of bins by Sturge's rule\n",
    "    # I take the floor of the value, you can also\n",
    "    # just round it\n",
    "    # num_bins = int(np.floor(1 + np.log2(len(data))))\n",
    "    \n",
    "    # bin targets\n",
    "    data.loc[:, \"bins\"] = pd.cut(\n",
    "        data[\"score\"], bins=5, labels=False\n",
    "    )\n",
    "    \n",
    "    # initiate the kfold class from model_selection module\n",
    "    kf = StratifiedKFold(n_splits=num_splits, shuffle=True, random_state=42)\n",
    "    \n",
    "    # fill the new kfold column\n",
    "    # note that, instead of targets, we use bins!\n",
    "    for f, (t_, v_) in enumerate(kf.split(X=data, y=data.bins.values)):\n",
    "        data.loc[v_, 'fold'] = f\n",
    "    \n",
    "    # drop the bins column\n",
    "    data = data.drop(\"bins\", axis=1)\n",
    "\n",
    "    # return dataframe with folds\n",
    "    return data"
   ]
  },
  {
   "cell_type": "code",
   "execution_count": null,
   "id": "88d86907",
   "metadata": {},
   "outputs": [],
   "source": [
    "train_df['input'] = train_df['title']+' '+train_df['anchor']\n",
    "train_df = create_folds(train_df, CFG.num_fold)"
   ]
  },
  {
   "cell_type": "code",
   "execution_count": null,
   "id": "f2460e5f",
   "metadata": {},
   "outputs": [],
   "source": [
    "tokenizer = AutoTokenizer.from_pretrained(CFG.model_path)"
   ]
  },
  {
   "cell_type": "code",
   "execution_count": null,
   "id": "6f3094c1",
   "metadata": {},
   "outputs": [],
   "source": [
    "class TrainDataset(Dataset):\n",
    "    def __init__(self, df):\n",
    "        self.inputs = df['input'].values.astype(str)\n",
    "        self.targets = df['target'].values.astype(str)\n",
    "        self.label = df['score'].values\n",
    "\n",
    "    def __len__(self):\n",
    "        return len(self.inputs)\n",
    "\n",
    "    def __getitem__(self, item):\n",
    "        inputs = self.inputs[item]\n",
    "        targets = self.targets[item]\n",
    "        label = self.label[item]\n",
    "        \n",
    "        return {\n",
    "        **tokenizer( inputs, targets ),\n",
    "        'label':label.astype(np.float32)\n",
    "    }"
   ]
  },
  {
   "cell_type": "code",
   "execution_count": null,
   "id": "3115eaab",
   "metadata": {},
   "outputs": [],
   "source": [
    "def compute_metrics(eval_pred):\n",
    "    predictions, labels = eval_pred\n",
    "    predictions = predictions.reshape(len(predictions))\n",
    "    return {\n",
    "        'pearson': np.corrcoef(predictions, labels)[0][1]\n",
    "    }"
   ]
  },
  {
   "cell_type": "code",
   "execution_count": null,
   "id": "2297b4fe",
   "metadata": {},
   "outputs": [],
   "source": [
    "test_df = pd.read_csv(f\"{CFG.input_path}/test.csv\")\n",
    "test_df = test_df.merge(titles, left_on='context', right_on='code')\n",
    "\n",
    "test_df['input'] = test_df['title']+' '+test_df['anchor']\n",
    "\n",
    "# tokenizer = AutoTokenizer.from_pretrained('uspppm_0')\n",
    "\n",
    "class InferDataset(Dataset):\n",
    "    def __init__(self, df):\n",
    "        self.inputs = df['input'].values.astype(str)\n",
    "        self.targets = df['target'].values.astype(str)\n",
    "\n",
    "    def __len__(self):\n",
    "        return len(self.inputs)\n",
    "\n",
    "    def __getitem__(self, item):\n",
    "        inputs = self.inputs[item]\n",
    "        targets = self.targets[item]\n",
    "        \n",
    "        return {\n",
    "        **tokenizer( inputs, targets )\n",
    "    }\n",
    "\n",
    "test_predictions = []\n",
    "\n",
    "# for fold in range(CFG.num_fold):"
   ]
  },
  {
   "cell_type": "code",
   "execution_count": null,
   "id": "7c3e4066",
   "metadata": {},
   "outputs": [],
   "source": [
    "oof_df = pd.DataFrame()\n",
    "for fold in range(CFG.num_fold):\n",
    "    \n",
    "    tr_data = train_df[train_df['fold']!=fold].reset_index(drop=True)\n",
    "    va_data = train_df[train_df['fold']==fold].reset_index(drop=True)\n",
    "    tr_dataset = TrainDataset(tr_data)\n",
    "    va_dataset = TrainDataset(va_data)\n",
    "\n",
    "    if iskaggle:\n",
    "        train_output_dir = f\"/kaggle/working/tmp/uspppm\"\n",
    "    else:\n",
    "        train_output_dir = f\"/tmp/uspppm\"\n",
    "    \n",
    "    args = TrainingArguments(\n",
    "        output_dir=train_output_dir,\n",
    "        evaluation_strategy=\"epoch\",\n",
    "        save_strategy=\"epoch\",\n",
    "        learning_rate=CFG.learning_rate,\n",
    "        per_device_train_batch_size=CFG.batch_size,\n",
    "        per_device_eval_batch_size=CFG.batch_size,\n",
    "        num_train_epochs=CFG.epochs,\n",
    "        weight_decay=CFG.weight_decay,\n",
    "        metric_for_best_model=\"pearson\",\n",
    "        load_best_model_at_end=True,\n",
    "    )\n",
    "    \n",
    "    model = AutoModelForSequenceClassification.from_pretrained(CFG.model_path, num_labels=1)\n",
    "    trainer = Trainer(\n",
    "        model,\n",
    "        args,\n",
    "        train_dataset=tr_dataset,\n",
    "        eval_dataset=va_dataset,\n",
    "        tokenizer=tokenizer,\n",
    "        compute_metrics=compute_metrics\n",
    "    )\n",
    "    \n",
    "    trainer.train()\n",
    "    shutil.rmtree(train_output_dir)\n",
    "    # trainer.save_model(f\"uspppm_{fold}\")\n",
    "\n",
    "    test_dataset = InferDataset(test_df)\n",
    "    test_outputs = trainer.predict(test_dataset)\n",
    "    test_prediction = outputs.predictions.reshape(-1)\n",
    "    test_predictions.append(test_prediction)\n",
    "    \n",
    "    outputs = trainer.predict(va_dataset)\n",
    "    val_predictions = outputs.predictions.reshape(-1)\n",
    "    va_data['preds'] = val_predictions\n",
    "    oof_df = pd.concat([oof_df, va_data])"
   ]
  },
  {
   "cell_type": "code",
   "execution_count": null,
   "id": "d1a91fcb",
   "metadata": {},
   "outputs": [],
   "source": [
    "predictions = oof_df['preds'].values\n",
    "label = oof_df['score'].values\n",
    "eval_pred = predictions, label\n",
    "compute_metrics(eval_pred)"
   ]
  },
  {
   "cell_type": "code",
   "execution_count": null,
   "id": "7371068b",
   "metadata": {},
   "outputs": [],
   "source": [
    "oof_df.to_csv('oof_df.csv', index=False)"
   ]
  },
  {
   "cell_type": "markdown",
   "id": "7affd2ca",
   "metadata": {},
   "source": [
    "### Inference"
   ]
  },
  {
   "cell_type": "code",
   "execution_count": null,
   "id": "ff801242",
   "metadata": {},
   "outputs": [],
   "source": [
    "test_predictions = np.mean(test_predictions, axis=0)\n",
    "submission = datasets.Dataset.from_dict({\n",
    "    'id': test_df['id'],\n",
    "    'score': test_predictions,\n",
    "})\n",
    "\n",
    "submission.to_csv('submission.csv', index=False)"
   ]
  }
 ],
 "metadata": {
  "kernelspec": {
   "display_name": "Python 3",
   "language": "python",
   "name": "python3"
  },
  "language_info": {
   "codemirror_mode": {
    "name": "ipython",
    "version": 3
   },
   "file_extension": ".py",
   "mimetype": "text/x-python",
   "name": "python",
   "nbconvert_exporter": "python",
   "pygments_lexer": "ipython3",
   "version": "3.6.9"
  }
 },
 "nbformat": 4,
 "nbformat_minor": 5
}
